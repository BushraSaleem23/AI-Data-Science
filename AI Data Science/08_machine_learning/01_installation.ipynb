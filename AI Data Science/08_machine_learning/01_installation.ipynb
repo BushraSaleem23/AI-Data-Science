{
 "cells": [
  {
   "cell_type": "markdown",
   "metadata": {},
   "source": [
    "# Steps\n",
    "\n",
    "1. create a new conda environment \"python_ml\n",
    "\n",
    "2. install the following packages\n",
    "   1. Python (conda install python)\n",
    "     1. pandas\n",
    "     2. numpy\n",
    "     3. matplotlib\n",
    "     4. seaborn\n",
    "     5. sklearn\n",
    "     6. plotly\n",
    "     7. scipy\n",
    "     8. jupyte\n",
    "     9. openpyxl\n",
    "       \n",
    "      "
   ]
  },
  {
   "cell_type": "code",
   "execution_count": 1,
   "metadata": {},
   "outputs": [],
   "source": [
    "import pandas as pandas\n",
    "import numpy as np\n",
    "import matplotlib.pyplot as plt\n",
    "import seaborn as sns\n"
   ]
  }
 ],
 "metadata": {
  "kernelspec": {
   "display_name": "Python 3",
   "language": "python",
   "name": "python3"
  },
  "language_info": {
   "codemirror_mode": {
    "name": "ipython",
    "version": 3
   },
   "file_extension": ".py",
   "mimetype": "text/x-python",
   "name": "python",
   "nbconvert_exporter": "python",
   "pygments_lexer": "ipython3",
   "version": "3.12.4"
  }
 },
 "nbformat": 4,
 "nbformat_minor": 2
}
